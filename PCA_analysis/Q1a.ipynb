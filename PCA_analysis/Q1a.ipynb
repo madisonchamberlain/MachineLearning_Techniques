{
  "nbformat": 4,
  "nbformat_minor": 0,
  "metadata": {
    "colab": {
      "name": "Q1a.ipynb",
      "provenance": [],
      "collapsed_sections": []
    },
    "kernelspec": {
      "name": "python3",
      "display_name": "Python 3"
    }
  },
  "cells": [
    {
      "cell_type": "markdown",
      "metadata": {
        "id": "E69i6Y-g35AU"
      },
      "source": [
        "# Question 1a:\n",
        "\n",
        "### Write a function to calculate the change in computation time and prediction accuracy per principal component added to the feature set for kNN. Have your function call be pcaCompare(X,Yrows,k,pcs), where X, Y, and k are the usual inputs to kNN, rows is the rows of the data we want to test, and pcs is the maximum number of principal components tested. Have it return a 3 column matrix representing the change in time and accuracy (not as a percentage) that occurs by adding this PC as a feature (eg. negative indicates the value went down when it was added) in the first and second columns, respectively, and the variance of the PC in the third, where the PC number is the row number.\n"
      ]
    },
    {
      "cell_type": "code",
      "metadata": {
        "id": "kse1D6Z0-4Kz",
        "colab": {
          "base_uri": "https://localhost:8080/",
          "height": 126
        },
        "outputId": "fdd4f757-4c47-4f85-eac4-a90167d23243"
      },
      "source": [
        "# import drive \n",
        "from google.colab import drive\n",
        "drive.mount('/content/drive')"
      ],
      "execution_count": null,
      "outputs": [
        {
          "output_type": "stream",
          "text": [
            "Go to this URL in a browser: https://accounts.google.com/o/oauth2/auth?client_id=947318989803-6bn6qk8qdgf4n4g3pfee6491hc0brc4i.apps.googleusercontent.com&redirect_uri=urn%3aietf%3awg%3aoauth%3a2.0%3aoob&scope=email%20https%3a%2f%2fwww.googleapis.com%2fauth%2fdocs.test%20https%3a%2f%2fwww.googleapis.com%2fauth%2fdrive%20https%3a%2f%2fwww.googleapis.com%2fauth%2fdrive.photos.readonly%20https%3a%2f%2fwww.googleapis.com%2fauth%2fpeopleapi.readonly&response_type=code\n",
            "\n",
            "Enter your authorization code:\n",
            "··········\n",
            "Mounted at /content/drive\n"
          ],
          "name": "stdout"
        }
      ]
    },
    {
      "cell_type": "code",
      "metadata": {
        "id": "_TwxIBl231FB"
      },
      "source": [
        "def explained_variance(pca):\n",
        "  pca_ratio = (pca.explained_variance_ratio_).tolist()\n",
        "  total_variance = 0\n",
        "  for number in pca_ratio:\n",
        "    total_variance += number\n",
        "  return(total_variance)\n",
        "\n",
        "def random_samples_generator(X, Y, rows):\n",
        "  import random\n",
        "  random_indexes = random.sample(range(0, len(Y)), rows)   # randomly select some indexes (sample b/c no repeats)\n",
        "  newX = []\n",
        "  newY = []\n",
        "  for index in random_indexes:\n",
        "    newX.append(X.iloc[index])    # return a matrix of the Xs at the random indexes\n",
        "    newY.append(Y.iloc[index])    # return a list of the Ys at the random indexes \n",
        "  return pd.DataFrame(newX), (newY)\n",
        "\n",
        "def pcsCompare(X,Y,rows,k,pcs):\n",
        "  # X = train_set_X, Yrows = train_set_Y, K = maxK to test, rows = test set, psc = maximum principle components tested \n",
        "  from sklearn.neighbors import KNeighborsRegressor\n",
        "  from sklearn.decomposition import PCA\n",
        "  import statistics \n",
        "  import time\n",
        "  import random\n",
        "\n",
        "  newx, newy = random_samples_generator(X, Y, rows)  # randomly choose some 'rows' rows because the data is ordered \n",
        "\n",
        "  PC_dict = {}\n",
        "  for i in range(pcs):   # for each number of principle components\n",
        "    pca = PCA(n_components=(i+1))  # generate a PCA with that many components (remember 0 indexing)\n",
        "    pca.fit(X)\n",
        "    total_variance = explained_variance(pca)   # get the amount of variance that is explained total with this many components\n",
        "    X_pca = pca.transform(X)\n",
        "    newx_pca = pca.transform(newx)    \n",
        "    knn = KNeighborsRegressor(n_neighbors=k)\n",
        "    knn.fit(X_pca, Y)    # fit the knn to a regression equation with that many components\n",
        "    start_time = time.time()\n",
        "    preds = (knn.predict(newx_pca).round())    # generate a prediction and see how long this takes \n",
        "    total_time = time.time() - start_time\n",
        "    differences = []\n",
        "    correct_instances = 0\n",
        "    for j in range(rows):   # compare each test row with its correct Y value \n",
        "      real_Y = newy[j]\n",
        "      Y_pred = preds[j]\n",
        "      if real_Y == Y_pred:\n",
        "        correct_instances += 1\n",
        "    accuracy = round(correct_instances/rows, 4)\n",
        "    PC_dict[i+1] = [accuracy, total_time, total_variance]\n",
        "  PC_change_matrix = pd.DataFrame.from_dict(PC_dict, orient='index', columns=['Accuracy', 'Time', 'Variance'])\n",
        "  return(PC_change_matrix)\n"
      ],
      "execution_count": null,
      "outputs": []
    },
    {
      "cell_type": "markdown",
      "metadata": {
        "id": "qNzQPMT9nW1t"
      },
      "source": [
        "## Functions used to test the pcsCompre function:"
      ]
    },
    {
      "cell_type": "code",
      "metadata": {
        "id": "hs3zg3ED_RKD"
      },
      "source": [
        "import pandas as pd\n",
        "import numpy as np\n",
        "my_path = '/content/drive/My Drive/YearPredictionMSD.txt'\n",
        "ms = pd.read_csv(my_path, header=None)"
      ],
      "execution_count": null,
      "outputs": []
    },
    {
      "cell_type": "code",
      "metadata": {
        "id": "Fecbr2auDiVR",
        "colab": {
          "base_uri": "https://localhost:8080/",
          "height": 347
        },
        "outputId": "73003aa3-6d28-44ec-d165-450eaec95a9b"
      },
      "source": [
        "X = ms.iloc[:,1:]\n",
        "Y = ms.iloc[:,0]\n",
        "rows = 10\n",
        "k = 20 \n",
        "pcs = 10\n",
        "\n",
        "pcs = pcsCompare(X, Y, rows, k, pcs)\n",
        "pcs\n"
      ],
      "execution_count": null,
      "outputs": [
        {
          "output_type": "execute_result",
          "data": {
            "text/html": [
              "<div>\n",
              "<style scoped>\n",
              "    .dataframe tbody tr th:only-of-type {\n",
              "        vertical-align: middle;\n",
              "    }\n",
              "\n",
              "    .dataframe tbody tr th {\n",
              "        vertical-align: top;\n",
              "    }\n",
              "\n",
              "    .dataframe thead th {\n",
              "        text-align: right;\n",
              "    }\n",
              "</style>\n",
              "<table border=\"1\" class=\"dataframe\">\n",
              "  <thead>\n",
              "    <tr style=\"text-align: right;\">\n",
              "      <th></th>\n",
              "      <th>Accuracy</th>\n",
              "      <th>Time</th>\n",
              "      <th>Variance</th>\n",
              "    </tr>\n",
              "  </thead>\n",
              "  <tbody>\n",
              "    <tr>\n",
              "      <th>1</th>\n",
              "      <td>0.0</td>\n",
              "      <td>0.001385</td>\n",
              "      <td>0.469129</td>\n",
              "    </tr>\n",
              "    <tr>\n",
              "      <th>2</th>\n",
              "      <td>0.0</td>\n",
              "      <td>0.001148</td>\n",
              "      <td>0.613581</td>\n",
              "    </tr>\n",
              "    <tr>\n",
              "      <th>3</th>\n",
              "      <td>0.0</td>\n",
              "      <td>0.001341</td>\n",
              "      <td>0.705189</td>\n",
              "    </tr>\n",
              "    <tr>\n",
              "      <th>4</th>\n",
              "      <td>0.1</td>\n",
              "      <td>0.001458</td>\n",
              "      <td>0.754606</td>\n",
              "    </tr>\n",
              "    <tr>\n",
              "      <th>5</th>\n",
              "      <td>0.0</td>\n",
              "      <td>0.001838</td>\n",
              "      <td>0.785573</td>\n",
              "    </tr>\n",
              "    <tr>\n",
              "      <th>6</th>\n",
              "      <td>0.1</td>\n",
              "      <td>0.002609</td>\n",
              "      <td>0.808269</td>\n",
              "    </tr>\n",
              "    <tr>\n",
              "      <th>7</th>\n",
              "      <td>0.1</td>\n",
              "      <td>0.003489</td>\n",
              "      <td>0.826119</td>\n",
              "    </tr>\n",
              "    <tr>\n",
              "      <th>8</th>\n",
              "      <td>0.1</td>\n",
              "      <td>0.005265</td>\n",
              "      <td>0.842415</td>\n",
              "    </tr>\n",
              "    <tr>\n",
              "      <th>9</th>\n",
              "      <td>0.1</td>\n",
              "      <td>0.006860</td>\n",
              "      <td>0.857915</td>\n",
              "    </tr>\n",
              "    <tr>\n",
              "      <th>10</th>\n",
              "      <td>0.0</td>\n",
              "      <td>0.008617</td>\n",
              "      <td>0.870571</td>\n",
              "    </tr>\n",
              "  </tbody>\n",
              "</table>\n",
              "</div>"
            ],
            "text/plain": [
              "    Accuracy      Time  Variance\n",
              "1        0.0  0.001385  0.469129\n",
              "2        0.0  0.001148  0.613581\n",
              "3        0.0  0.001341  0.705189\n",
              "4        0.1  0.001458  0.754606\n",
              "5        0.0  0.001838  0.785573\n",
              "6        0.1  0.002609  0.808269\n",
              "7        0.1  0.003489  0.826119\n",
              "8        0.1  0.005265  0.842415\n",
              "9        0.1  0.006860  0.857915\n",
              "10       0.0  0.008617  0.870571"
            ]
          },
          "metadata": {
            "tags": []
          },
          "execution_count": 9
        }
      ]
    }
  ]
}