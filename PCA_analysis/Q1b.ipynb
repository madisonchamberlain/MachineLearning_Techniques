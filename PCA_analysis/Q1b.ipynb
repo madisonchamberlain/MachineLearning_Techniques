{
  "nbformat": 4,
  "nbformat_minor": 0,
  "metadata": {
    "colab": {
      "name": "Q1b.ipynb",
      "provenance": [],
      "collapsed_sections": []
    },
    "kernelspec": {
      "name": "python3",
      "display_name": "Python 3"
    }
  },
  "cells": [
    {
      "cell_type": "markdown",
      "metadata": {
        "id": "q7vHdcnrPWE-"
      },
      "source": [
        " Write a wrapper function for pcaCompare to find the best number of PCs for the optimal runtime and a loss no greater than maxLoss. Have your function call be pcaOptimize(X,Y,rows,k,pcs,maxLoss), where X, Y, rows, k, and pcs are the same as above, and maxLoss is the maximum acceptable average loss as a percentage of the loss without using pca (eg. maxLoss=1.1 then it can be 10% higher.)"
      ]
    },
    {
      "cell_type": "code",
      "metadata": {
        "id": "kUf7dJvjPVVA",
        "colab": {
          "base_uri": "https://localhost:8080/",
          "height": 34
        },
        "outputId": "b7432cc7-12b8-4ae2-9b9c-bcf6a1bcbd8b"
      },
      "source": [
        "# import drive \n",
        "from google.colab import drive\n",
        "drive.mount('/content/drive')"
      ],
      "execution_count": null,
      "outputs": [
        {
          "output_type": "stream",
          "text": [
            "Drive already mounted at /content/drive; to attempt to forcibly remount, call drive.mount(\"/content/drive\", force_remount=True).\n"
          ],
          "name": "stdout"
        }
      ]
    },
    {
      "cell_type": "code",
      "metadata": {
        "id": "HuzG54szQSwn"
      },
      "source": [
        "import pandas as pd\n",
        "import numpy as np\n",
        "my_path = '/content/drive/My Drive/YearPredictionMSD.txt'\n",
        "ms = pd.read_csv(my_path, header=None)"
      ],
      "execution_count": null,
      "outputs": []
    },
    {
      "cell_type": "code",
      "metadata": {
        "id": "YXXkJ_odQaAJ"
      },
      "source": [
        "def findOverallLoss(ypreds,Y):\n",
        "  err = (ypreds.reset_index(drop=True).T - Y.reset_index(drop=True).values.squeeze()) ** 2\n",
        "  MAPE = err.mean(axis=1)\n",
        "  return MAPE\n",
        "\n",
        "def random_samples_generator(X, Y, rows):\n",
        "  import random\n",
        "  random_indexes = random.sample(range(0, len(Y)), rows)   # randomly select some indexes (sample b/c no repeats)\n",
        "  newX = []\n",
        "  newY = []\n",
        "  for index in random_indexes:\n",
        "    newX.append(X.iloc[index])    # return a matrix of the Xs at the random indexes\n",
        "    newY.append(Y.iloc[index])    # return a list of the Ys at the random indexes \n",
        "  return pd.DataFrame(newX), (newY)\n",
        "\n",
        "def pcs_to_compare(X,Y,rows,k,pcs):\n",
        "  # X = train_set_X, Yrows = train_set_Y, K = maxK to test, rows = test set, psc = maximum principle components tested \n",
        "  from sklearn.neighbors import KNeighborsRegressor\n",
        "  from sklearn.decomposition import PCA\n",
        "  import statistics \n",
        "  import time\n",
        "\n",
        "  PC_dict = {}\n",
        "  newx, newy = random_samples_generator(X, Y, rows)  # randomly choose some 'rows' rows because the data is ordered \n",
        "\n",
        "  # generate the overall loss using all components (KNN with all pcs for comparison)\n",
        "  knn = KNeighborsRegressor(n_neighbors=k)\n",
        "  knn.fit(X, Y)\n",
        "  preds = (knn.predict(newx).round())\n",
        "  overallLoss_noPCA = findOverallLoss(pd.DataFrame(newy), pd.DataFrame(preds))\n",
        "\n",
        "  for i in range(pcs):\n",
        "    # get the prediction for each Y given a testset for 'i' pcs\n",
        "    pca = PCA(n_components=(i+1))\n",
        "    pca.fit(X)\n",
        "    X_pca = pca.transform(X)\n",
        "    newx_pca = pca.transform(newx)    \n",
        "    knn = KNeighborsRegressor(n_neighbors=k)\n",
        "    knn.fit(X_pca, Y)\n",
        "    start_time = time.time()\n",
        "    preds = (knn.predict(newx_pca).round())\n",
        "    total_time = time.time() - start_time\n",
        "    # get the overall loss for the predictions compared to the real Y values \n",
        "    overallLoss = findOverallLoss(pd.DataFrame(newy), pd.DataFrame(preds))\n",
        "    Loss_as_percent =  overallLoss[0]/overallLoss_noPCA[0]\n",
        "    PC_dict[i+1] = [Loss_as_percent, total_time]\n",
        "  return(PC_dict)   # basically the same as the original function but returning a dictionary for easier searching "
      ],
      "execution_count": null,
      "outputs": []
    },
    {
      "cell_type": "code",
      "metadata": {
        "id": "cM2uELqcSCcu"
      },
      "source": [
        "def pcaOptimize(X,Y,rows,k,pcs,maxLoss):\n",
        "  loss_percent = maxLoss - 1\n",
        "  PCnum_differenceFromMean = pcs_to_compare(X,Y,rows,k,pcs)\n",
        "  smaller_than_maxLoss = {}\n",
        "  for row in PCnum_differenceFromMean:  # for each item in the dictionary\n",
        "    loss = PCnum_differenceFromMean[row][0]   # get the loss\n",
        "    if loss <= maxLoss:                     # if the loss is less than the specified maxLoss add to its own dictionary \n",
        "      smaller_than_maxLoss[PCnum_differenceFromMean[row][1]] = [PCnum_differenceFromMean[row][0], row]\n",
        "      # this new dictionary is going to have the time be the key value (for easier sorting)\n",
        "  least_time = sorted(smaller_than_maxLoss)[0]    # sort to find the smallest time value\n",
        "  best_PC = smaller_than_maxLoss[least_time][1]   # return the number of PCs associated with this least time \n",
        "  return(best_PC)"
      ],
      "execution_count": null,
      "outputs": []
    },
    {
      "cell_type": "code",
      "metadata": {
        "id": "Y1qiRsvPRjfC",
        "colab": {
          "base_uri": "https://localhost:8080/",
          "height": 72
        },
        "outputId": "a64fa156-7133-4449-c9aa-3a6a2d06f9f0"
      },
      "source": [
        "X = ms.iloc[:,1:]\n",
        "Y = ms.iloc[:,0]\n",
        "rows = 10\n",
        "k = 10 \n",
        "pcs = 10\n",
        "maxLoss = 1.01\n",
        "compare = pcs_to_compare(X,Y,rows,k,pcs)\n",
        "print('compare:', compare)\n",
        "optimal = pcaOptimize(X,Y,rows,k,pcs,maxLoss)\n",
        "print('optimal:',optimal)"
      ],
      "execution_count": null,
      "outputs": [
        {
          "output_type": "stream",
          "text": [
            "compare: {1: [1.0632911392405062, 0.0011074542999267578], 2: [1.0928270042194093, 0.0011005401611328125], 3: [1.5, 0.00124359130859375], 4: [1.35126582278481, 0.0013890266418457031], 5: [1.0748945147679325, 0.0019865036010742188], 6: [1.0242616033755274, 0.002978086471557617], 7: [1.089662447257384, 0.004187345504760742], 8: [1.6782700421940928, 0.006232023239135742], 9: [1.1729957805907174, 0.008955001831054688], 10: [1.3892405063291138, 0.011487245559692383]}\n",
            "optimal: 4\n"
          ],
          "name": "stdout"
        }
      ]
    }
  ]
}