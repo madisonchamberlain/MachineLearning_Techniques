{
  "nbformat": 4,
  "nbformat_minor": 0,
  "metadata": {
    "colab": {
      "name": "CNN.ipynb",
      "provenance": [],
      "collapsed_sections": []
    },
    "kernelspec": {
      "name": "python3",
      "display_name": "Python 3"
    }
  },
  "cells": [
    {
      "cell_type": "markdown",
      "metadata": {
        "id": "s1VUwRl_bccS"
      },
      "source": [
        "# Design a CNN in Keras with 3 convolutional layers to predict the fashion prodcut class from Fashion-MNIST (as loaded below). Use the history object of the return to Keras's .fit() function to plot and analyze the training [acc] and validation accuracy [val_acc] for each of the 15 epochs. Use 20/80 train/validation split. Hint: You can add the validation data as validation_data in the .fit() function."
      ]
    },
    {
      "cell_type": "code",
      "metadata": {
        "id": "BPxO1ymXbOqH",
        "colab": {
          "base_uri": "https://localhost:8080/",
          "height": 87
        },
        "outputId": "e4e1e1ae-7204-4a65-a548-594c32209f34"
      },
      "source": [
        "import tensorflow as tf\n",
        "from tensorflow import keras\n",
        "from keras import datasets\n",
        "import pandas as pd\n",
        "\n",
        "fashion_mnist = keras.datasets.fashion_mnist\n",
        "\n",
        "(X_train, y_train), (X_test, y_test) = fashion_mnist.load_data()\n",
        "print('X_train.shape')\n",
        "print(X_train.shape)\n",
        "print('X_test.shape')\n",
        "print(X_test.shape)"
      ],
      "execution_count": null,
      "outputs": [
        {
          "output_type": "stream",
          "text": [
            "X_train.shape\n",
            "(60000, 28, 28)\n",
            "X_test.shape\n",
            "(10000, 28, 28)\n"
          ],
          "name": "stdout"
        }
      ]
    },
    {
      "cell_type": "code",
      "metadata": {
        "id": "f2zsiMT3Kk8Q"
      },
      "source": [
        "from keras.utils import to_categorical\n",
        "\n",
        "X_train = X_train.reshape((60000, 28, 28, 1))\n",
        "X_train = X_train.astype('float32') / 255\n",
        "X_test = X_test.reshape((10000, 28, 28, 1))\n",
        "X_test = X_test.astype('float32') / 255\n",
        "y_train = to_categorical(y_train)  \n",
        "y_test = to_categorical(y_test)  "
      ],
      "execution_count": null,
      "outputs": []
    },
    {
      "cell_type": "code",
      "metadata": {
        "id": "n2YeHZXpPZXb",
        "colab": {
          "base_uri": "https://localhost:8080/",
          "height": 443
        },
        "outputId": "841810f1-5e48-48a1-ffd6-68119e95ce93"
      },
      "source": [
        "from keras import layers\n",
        "from keras import models\n",
        "\n",
        "model = models.Sequential()\n",
        "model.add(layers.Conv2D(32,(3,3),activation='relu', input_shape=(28,28,1)))\n",
        "model.add(layers.MaxPooling2D((2, 2)))\n",
        "model.add(layers.Conv2D(64, (3,3), activation='relu'))\n",
        "model.add(layers.MaxPooling2D((2, 2)))\n",
        "model.add(layers.Conv2D(128, (3,3), activation='relu'))\n",
        "model.add(layers.MaxPooling2D((2, 2)))\n",
        "model.add(layers.Flatten())\n",
        "model.add(layers.Dense(10, activation='softmax'))\n",
        "model.summary()"
      ],
      "execution_count": null,
      "outputs": [
        {
          "output_type": "stream",
          "text": [
            "Model: \"sequential_10\"\n",
            "_________________________________________________________________\n",
            "Layer (type)                 Output Shape              Param #   \n",
            "=================================================================\n",
            "conv2d_27 (Conv2D)           (None, 26, 26, 32)        320       \n",
            "_________________________________________________________________\n",
            "max_pooling2d_24 (MaxPooling (None, 13, 13, 32)        0         \n",
            "_________________________________________________________________\n",
            "conv2d_28 (Conv2D)           (None, 11, 11, 64)        18496     \n",
            "_________________________________________________________________\n",
            "max_pooling2d_25 (MaxPooling (None, 5, 5, 64)          0         \n",
            "_________________________________________________________________\n",
            "conv2d_29 (Conv2D)           (None, 3, 3, 128)         73856     \n",
            "_________________________________________________________________\n",
            "max_pooling2d_26 (MaxPooling (None, 1, 1, 128)         0         \n",
            "_________________________________________________________________\n",
            "flatten_6 (Flatten)          (None, 128)               0         \n",
            "_________________________________________________________________\n",
            "dense_6 (Dense)              (None, 10)                1290      \n",
            "=================================================================\n",
            "Total params: 93,962\n",
            "Trainable params: 93,962\n",
            "Non-trainable params: 0\n",
            "_________________________________________________________________\n"
          ],
          "name": "stdout"
        }
      ]
    },
    {
      "cell_type": "code",
      "metadata": {
        "id": "OyAIiU9CPHS6",
        "colab": {
          "base_uri": "https://localhost:8080/",
          "height": 623
        },
        "outputId": "823830a8-7b5c-4b38-f659-3cfd17239712"
      },
      "source": [
        "model.compile(loss='categorical_crossentropy',optimizer='sgd',metrics=['accuracy'])\n",
        "mod = model.fit(X_train, y_train,validation_split=0.8, batch_size=100, epochs=15,verbose=1,)\n",
        "acc = mod.history['accuracy']\n",
        "val_acc =  mod.history['val_accuracy']\n",
        "print(acc)\n",
        "print(val_acc)"
      ],
      "execution_count": null,
      "outputs": [
        {
          "output_type": "stream",
          "text": [
            "Train on 11999 samples, validate on 48001 samples\n",
            "Epoch 1/15\n",
            "11999/11999 [==============================] - 20s 2ms/step - loss: 0.7550 - accuracy: 0.7231 - val_loss: 0.7405 - val_accuracy: 0.7294\n",
            "Epoch 2/15\n",
            "11999/11999 [==============================] - 20s 2ms/step - loss: 0.7482 - accuracy: 0.7171 - val_loss: 0.7256 - val_accuracy: 0.7148\n",
            "Epoch 3/15\n",
            "11999/11999 [==============================] - 20s 2ms/step - loss: 0.7295 - accuracy: 0.7343 - val_loss: 0.7130 - val_accuracy: 0.7425\n",
            "Epoch 4/15\n",
            "11999/11999 [==============================] - 20s 2ms/step - loss: 0.7193 - accuracy: 0.7352 - val_loss: 0.6890 - val_accuracy: 0.7549\n",
            "Epoch 5/15\n",
            "11999/11999 [==============================] - 20s 2ms/step - loss: 0.6983 - accuracy: 0.7431 - val_loss: 0.6931 - val_accuracy: 0.7417\n",
            "Epoch 6/15\n",
            "11999/11999 [==============================] - 20s 2ms/step - loss: 0.6841 - accuracy: 0.7496 - val_loss: 0.6855 - val_accuracy: 0.7528\n",
            "Epoch 7/15\n",
            "11999/11999 [==============================] - 20s 2ms/step - loss: 0.6739 - accuracy: 0.7509 - val_loss: 0.6635 - val_accuracy: 0.7628\n",
            "Epoch 8/15\n",
            "11999/11999 [==============================] - 20s 2ms/step - loss: 0.6580 - accuracy: 0.7592 - val_loss: 0.6871 - val_accuracy: 0.7447\n",
            "Epoch 9/15\n",
            "11999/11999 [==============================] - 20s 2ms/step - loss: 0.6590 - accuracy: 0.7558 - val_loss: 0.6611 - val_accuracy: 0.7571\n",
            "Epoch 10/15\n",
            "11999/11999 [==============================] - 20s 2ms/step - loss: 0.6476 - accuracy: 0.7636 - val_loss: 0.6836 - val_accuracy: 0.7421\n",
            "Epoch 11/15\n",
            "11999/11999 [==============================] - 20s 2ms/step - loss: 0.6346 - accuracy: 0.7671 - val_loss: 0.6286 - val_accuracy: 0.7728\n",
            "Epoch 12/15\n",
            "11999/11999 [==============================] - 20s 2ms/step - loss: 0.6256 - accuracy: 0.7707 - val_loss: 0.6167 - val_accuracy: 0.7788\n",
            "Epoch 13/15\n",
            "11999/11999 [==============================] - 20s 2ms/step - loss: 0.6135 - accuracy: 0.7758 - val_loss: 0.6429 - val_accuracy: 0.7639\n",
            "Epoch 14/15\n",
            "11999/11999 [==============================] - 20s 2ms/step - loss: 0.6055 - accuracy: 0.7780 - val_loss: 0.6050 - val_accuracy: 0.7776\n",
            "Epoch 15/15\n",
            "11999/11999 [==============================] - 20s 2ms/step - loss: 0.6030 - accuracy: 0.7787 - val_loss: 0.6040 - val_accuracy: 0.7834\n",
            "[0.7231436, 0.7171431, 0.73431116, 0.73522794, 0.7431453, 0.74956244, 0.7508959, 0.75922996, 0.755813, 0.76356363, 0.7670639, 0.7707309, 0.77581465, 0.7779815, 0.7787316]\n",
            "[0.7294431328773499, 0.7148392796516418, 0.7425053715705872, 0.7549425959587097, 0.7417345643043518, 0.7527551651000977, 0.7628174424171448, 0.7447136640548706, 0.7571092247962952, 0.7421095371246338, 0.7728172540664673, 0.7788171172142029, 0.7639424204826355, 0.7776296138763428, 0.7834003567695618]\n"
          ],
          "name": "stdout"
        }
      ]
    },
    {
      "cell_type": "code",
      "metadata": {
        "id": "jAYQfYu-luH7",
        "colab": {
          "base_uri": "https://localhost:8080/",
          "height": 294
        },
        "outputId": "14f36e4d-47c9-40e8-e06f-7e989906aa34"
      },
      "source": [
        "import matplotlib.pyplot as plt\n",
        "\n",
        "plt.scatter(acc, val_acc)\n",
        "plt.ylabel('Training Accuracy')\n",
        "plt.xlabel('Validation Accuracy')\n",
        "plt.title('Keras Fashion Accuracy')\n",
        "plt.show()"
      ],
      "execution_count": null,
      "outputs": [
        {
          "output_type": "display_data",
          "data": {
            "image/png": "[encoded data removed]",
            "text/plain": [
              "<Figure size 432x288 with 1 Axes>"
            ]
          },
          "metadata": {
            "tags": [],
            "needs_background": "light"
          }
        }
      ]
    }
  ]
}