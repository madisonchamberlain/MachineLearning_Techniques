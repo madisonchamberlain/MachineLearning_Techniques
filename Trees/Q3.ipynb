{
  "nbformat": 4,
  "nbformat_minor": 0,
  "metadata": {
    "colab": {
      "name": "Q3.ipynb",
      "provenance": [],
      "collapsed_sections": []
    },
    "kernelspec": {
      "name": "python3",
      "display_name": "Python 3"
    }
  },
  "cells": [
    {
      "cell_type": "markdown",
      "metadata": {
        "id": "_ouxyegoKyOd"
      },
      "source": [
        " ## Make a plot of the prediction accuracy for a range of inputs for min_samples_leaf for a range of different sized test vs train set ratios (on the NYC taxi dataset). What is the best input value, and why do you think this is best? How does the best value depend on the size of the train and/or test set? How does min_samples_leaf compare to min_samples_split?\n"
      ]
    },
    {
      "cell_type": "code",
      "metadata": {
        "id": "IWGZILorKvvt",
        "colab": {
          "base_uri": "https://localhost:8080/",
          "height": 34
        },
        "outputId": "3933d148-ab41-46c0-f9bb-f04325be7ca8"
      },
      "source": [
        "from google.colab import drive\n",
        "drive.mount('/content/drive')"
      ],
      "execution_count": null,
      "outputs": [
        {
          "output_type": "stream",
          "text": [
            "Drive already mounted at /content/drive; to attempt to forcibly remount, call drive.mount(\"/content/drive\", force_remount=True).\n"
          ],
          "name": "stdout"
        }
      ]
    },
    {
      "cell_type": "code",
      "metadata": {
        "id": "hVWCbp1pzd-5",
        "colab": {
          "base_uri": "https://localhost:8080/",
          "height": 301
        },
        "outputId": "c5a5cda5-7e72-47c1-be61-b970d1672b77"
      },
      "source": [
        "import pandas as pd\n",
        "import numpy as np\n",
        "\n",
        "my_path = my_path = '/content/drive/My Drive/train.csv'\n",
        "train = pd.read_csv(my_path, parse_dates =['pickup_datetime'])\n",
        "train.head()"
      ],
      "execution_count": null,
      "outputs": [
        {
          "output_type": "execute_result",
          "data": {
            "text/html": [
              "<div>\n",
              "<style scoped>\n",
              "    .dataframe tbody tr th:only-of-type {\n",
              "        vertical-align: middle;\n",
              "    }\n",
              "\n",
              "    .dataframe tbody tr th {\n",
              "        vertical-align: top;\n",
              "    }\n",
              "\n",
              "    .dataframe thead th {\n",
              "        text-align: right;\n",
              "    }\n",
              "</style>\n",
              "<table border=\"1\" class=\"dataframe\">\n",
              "  <thead>\n",
              "    <tr style=\"text-align: right;\">\n",
              "      <th></th>\n",
              "      <th>id</th>\n",
              "      <th>vendor_id</th>\n",
              "      <th>pickup_datetime</th>\n",
              "      <th>dropoff_datetime</th>\n",
              "      <th>passenger_count</th>\n",
              "      <th>pickup_longitude</th>\n",
              "      <th>pickup_latitude</th>\n",
              "      <th>dropoff_longitude</th>\n",
              "      <th>dropoff_latitude</th>\n",
              "      <th>store_and_fwd_flag</th>\n",
              "      <th>trip_duration</th>\n",
              "    </tr>\n",
              "  </thead>\n",
              "  <tbody>\n",
              "    <tr>\n",
              "      <th>0</th>\n",
              "      <td>id2875421</td>\n",
              "      <td>2</td>\n",
              "      <td>2016-03-14 17:24:55</td>\n",
              "      <td>2016-03-14 17:32:30</td>\n",
              "      <td>1</td>\n",
              "      <td>-73.982155</td>\n",
              "      <td>40.767937</td>\n",
              "      <td>-73.964630</td>\n",
              "      <td>40.765602</td>\n",
              "      <td>N</td>\n",
              "      <td>455</td>\n",
              "    </tr>\n",
              "    <tr>\n",
              "      <th>1</th>\n",
              "      <td>id2377394</td>\n",
              "      <td>1</td>\n",
              "      <td>2016-06-12 00:43:35</td>\n",
              "      <td>2016-06-12 00:54:38</td>\n",
              "      <td>1</td>\n",
              "      <td>-73.980415</td>\n",
              "      <td>40.738564</td>\n",
              "      <td>-73.999481</td>\n",
              "      <td>40.731152</td>\n",
              "      <td>N</td>\n",
              "      <td>663</td>\n",
              "    </tr>\n",
              "    <tr>\n",
              "      <th>2</th>\n",
              "      <td>id3858529</td>\n",
              "      <td>2</td>\n",
              "      <td>2016-01-19 11:35:24</td>\n",
              "      <td>2016-01-19 12:10:48</td>\n",
              "      <td>1</td>\n",
              "      <td>-73.979027</td>\n",
              "      <td>40.763939</td>\n",
              "      <td>-74.005333</td>\n",
              "      <td>40.710087</td>\n",
              "      <td>N</td>\n",
              "      <td>2124</td>\n",
              "    </tr>\n",
              "    <tr>\n",
              "      <th>3</th>\n",
              "      <td>id3504673</td>\n",
              "      <td>2</td>\n",
              "      <td>2016-04-06 19:32:31</td>\n",
              "      <td>2016-04-06 19:39:40</td>\n",
              "      <td>1</td>\n",
              "      <td>-74.010040</td>\n",
              "      <td>40.719971</td>\n",
              "      <td>-74.012268</td>\n",
              "      <td>40.706718</td>\n",
              "      <td>N</td>\n",
              "      <td>429</td>\n",
              "    </tr>\n",
              "    <tr>\n",
              "      <th>4</th>\n",
              "      <td>id2181028</td>\n",
              "      <td>2</td>\n",
              "      <td>2016-03-26 13:30:55</td>\n",
              "      <td>2016-03-26 13:38:10</td>\n",
              "      <td>1</td>\n",
              "      <td>-73.973053</td>\n",
              "      <td>40.793209</td>\n",
              "      <td>-73.972923</td>\n",
              "      <td>40.782520</td>\n",
              "      <td>N</td>\n",
              "      <td>435</td>\n",
              "    </tr>\n",
              "  </tbody>\n",
              "</table>\n",
              "</div>"
            ],
            "text/plain": [
              "          id  vendor_id  ... store_and_fwd_flag trip_duration\n",
              "0  id2875421          2  ...                  N           455\n",
              "1  id2377394          1  ...                  N           663\n",
              "2  id3858529          2  ...                  N          2124\n",
              "3  id3504673          2  ...                  N           429\n",
              "4  id2181028          2  ...                  N           435\n",
              "\n",
              "[5 rows x 11 columns]"
            ]
          },
          "metadata": {
            "tags": []
          },
          "execution_count": 24
        }
      ]
    },
    {
      "cell_type": "code",
      "metadata": {
        "id": "sJab_thsavXX",
        "colab": {
          "base_uri": "https://localhost:8080/",
          "height": 406
        },
        "outputId": "1d1b4537-f516-4a35-e31a-984cc62b54a3"
      },
      "source": [
        "y_train = pd.DataFrame(train.loc[:,'trip_duration'])\n",
        "y_train"
      ],
      "execution_count": null,
      "outputs": [
        {
          "output_type": "execute_result",
          "data": {
            "text/html": [
              "<div>\n",
              "<style scoped>\n",
              "    .dataframe tbody tr th:only-of-type {\n",
              "        vertical-align: middle;\n",
              "    }\n",
              "\n",
              "    .dataframe tbody tr th {\n",
              "        vertical-align: top;\n",
              "    }\n",
              "\n",
              "    .dataframe thead th {\n",
              "        text-align: right;\n",
              "    }\n",
              "</style>\n",
              "<table border=\"1\" class=\"dataframe\">\n",
              "  <thead>\n",
              "    <tr style=\"text-align: right;\">\n",
              "      <th></th>\n",
              "      <th>trip_duration</th>\n",
              "    </tr>\n",
              "  </thead>\n",
              "  <tbody>\n",
              "    <tr>\n",
              "      <th>0</th>\n",
              "      <td>455</td>\n",
              "    </tr>\n",
              "    <tr>\n",
              "      <th>1</th>\n",
              "      <td>663</td>\n",
              "    </tr>\n",
              "    <tr>\n",
              "      <th>2</th>\n",
              "      <td>2124</td>\n",
              "    </tr>\n",
              "    <tr>\n",
              "      <th>3</th>\n",
              "      <td>429</td>\n",
              "    </tr>\n",
              "    <tr>\n",
              "      <th>4</th>\n",
              "      <td>435</td>\n",
              "    </tr>\n",
              "    <tr>\n",
              "      <th>...</th>\n",
              "      <td>...</td>\n",
              "    </tr>\n",
              "    <tr>\n",
              "      <th>1458639</th>\n",
              "      <td>778</td>\n",
              "    </tr>\n",
              "    <tr>\n",
              "      <th>1458640</th>\n",
              "      <td>655</td>\n",
              "    </tr>\n",
              "    <tr>\n",
              "      <th>1458641</th>\n",
              "      <td>764</td>\n",
              "    </tr>\n",
              "    <tr>\n",
              "      <th>1458642</th>\n",
              "      <td>373</td>\n",
              "    </tr>\n",
              "    <tr>\n",
              "      <th>1458643</th>\n",
              "      <td>198</td>\n",
              "    </tr>\n",
              "  </tbody>\n",
              "</table>\n",
              "<p>1458644 rows × 1 columns</p>\n",
              "</div>"
            ],
            "text/plain": [
              "         trip_duration\n",
              "0                  455\n",
              "1                  663\n",
              "2                 2124\n",
              "3                  429\n",
              "4                  435\n",
              "...                ...\n",
              "1458639            778\n",
              "1458640            655\n",
              "1458641            764\n",
              "1458642            373\n",
              "1458643            198\n",
              "\n",
              "[1458644 rows x 1 columns]"
            ]
          },
          "metadata": {
            "tags": []
          },
          "execution_count": 25
        }
      ]
    },
    {
      "cell_type": "code",
      "metadata": {
        "id": "UrWUeEx9ay8u"
      },
      "source": [
        "from datetime import datetime \n",
        "from datetime import date\n",
        "\n",
        "train['year'] = train['pickup_datetime'].dt.year\n",
        "train['month'] = train['pickup_datetime'].dt.month\n",
        "train['day'] = train['pickup_datetime'].dt.day\n",
        "train['hr'] = train['pickup_datetime'].dt.hour\n",
        "train['minute'] = train['pickup_datetime'].dt.minute\n",
        "# convert to dummy\n",
        "train.loc[train['store_and_fwd_flag'] == 'Y','store_and_fwd_flag'] = 1\n",
        "train.loc[train['store_and_fwd_flag'] == 'N','store_and_fwd_flag'] = 0"
      ],
      "execution_count": null,
      "outputs": []
    },
    {
      "cell_type": "code",
      "metadata": {
        "id": "whIc_rxV5i-E",
        "colab": {
          "base_uri": "https://localhost:8080/",
          "height": 197
        },
        "outputId": "9bdcbe19-4058-4712-af04-e210b8df8663"
      },
      "source": [
        "my_path = '/content/drive/My Drive/NYC_2016Holidays.csv'\n",
        "holiday = pd.read_csv(my_path, sep = ';') \n",
        "holiday['Date'] = holiday['Date'].apply(lambda x: x + ' 2016')\n",
        "holiday.head()"
      ],
      "execution_count": null,
      "outputs": [
        {
          "output_type": "execute_result",
          "data": {
            "text/html": [
              "<div>\n",
              "<style scoped>\n",
              "    .dataframe tbody tr th:only-of-type {\n",
              "        vertical-align: middle;\n",
              "    }\n",
              "\n",
              "    .dataframe tbody tr th {\n",
              "        vertical-align: top;\n",
              "    }\n",
              "\n",
              "    .dataframe thead th {\n",
              "        text-align: right;\n",
              "    }\n",
              "</style>\n",
              "<table border=\"1\" class=\"dataframe\">\n",
              "  <thead>\n",
              "    <tr style=\"text-align: right;\">\n",
              "      <th></th>\n",
              "      <th>Day</th>\n",
              "      <th>Date</th>\n",
              "      <th>Holiday</th>\n",
              "    </tr>\n",
              "  </thead>\n",
              "  <tbody>\n",
              "    <tr>\n",
              "      <th>0</th>\n",
              "      <td>Friday</td>\n",
              "      <td>January 01 2016</td>\n",
              "      <td>New Years Day</td>\n",
              "    </tr>\n",
              "    <tr>\n",
              "      <th>1</th>\n",
              "      <td>Monday</td>\n",
              "      <td>January 18 2016</td>\n",
              "      <td>Martin Luther King Jr. Day</td>\n",
              "    </tr>\n",
              "    <tr>\n",
              "      <th>2</th>\n",
              "      <td>Friday</td>\n",
              "      <td>February 12 2016</td>\n",
              "      <td>Lincoln's Birthday</td>\n",
              "    </tr>\n",
              "    <tr>\n",
              "      <th>3</th>\n",
              "      <td>Monday</td>\n",
              "      <td>February 15 2016</td>\n",
              "      <td>Presidents' Day</td>\n",
              "    </tr>\n",
              "    <tr>\n",
              "      <th>4</th>\n",
              "      <td>Sunday</td>\n",
              "      <td>May 08 2016</td>\n",
              "      <td>Mother's Day</td>\n",
              "    </tr>\n",
              "  </tbody>\n",
              "</table>\n",
              "</div>"
            ],
            "text/plain": [
              "      Day              Date                     Holiday\n",
              "0  Friday   January 01 2016               New Years Day\n",
              "1  Monday   January 18 2016  Martin Luther King Jr. Day\n",
              "2  Friday  February 12 2016          Lincoln's Birthday\n",
              "3  Monday  February 15 2016             Presidents' Day\n",
              "4  Sunday       May 08 2016                Mother's Day"
            ]
          },
          "metadata": {
            "tags": []
          },
          "execution_count": 27
        }
      ]
    },
    {
      "cell_type": "code",
      "metadata": {
        "id": "fDmEl3305rG_"
      },
      "source": [
        "special_days = pd.DataFrame(index = range(len(train)))  "
      ],
      "execution_count": null,
      "outputs": []
    },
    {
      "cell_type": "code",
      "metadata": {
        "id": "zK6FcUhS5r2x"
      },
      "source": [
        "def find_holiday(yr, month, day, holidays):\n",
        "    holiday =  [None]*len(yr)\n",
        "    weekend =  [None]*len(yr)\n",
        "    i = 0 \n",
        "    for yy,mm,dd in zip(yr, month, day):\n",
        "        weekend[i] = date(yy,mm,dd).isoweekday() in (6,7)\n",
        "        holiday[i] = weekend[i] or date(yy,mm,dd)  in holidays\n",
        "        i+=1\n",
        "    return holiday, weekend"
      ],
      "execution_count": null,
      "outputs": []
    },
    {
      "cell_type": "code",
      "metadata": {
        "id": "e_Mt2SXc5wKX",
        "colab": {
          "base_uri": "https://localhost:8080/",
          "height": 230
        },
        "outputId": "fbefb94a-d5f4-4fa7-f3fe-09372390fa49"
      },
      "source": [
        "holiday,weekend = find_holiday(train.year, train.month, train.day, holiday)\n",
        "special_days = special_days.assign(holiday = holiday)\n",
        "special_days = special_days.assign(weekend = weekend)\n",
        "\n",
        "print(special_days.dtypes)\n",
        "#my_tab = pd.crosstab(index=special_days['holiday'],columns=\"count\") \n",
        "#my_tab\n",
        "special_days.info()"
      ],
      "execution_count": null,
      "outputs": [
        {
          "output_type": "stream",
          "text": [
            "holiday    bool\n",
            "weekend    bool\n",
            "dtype: object\n",
            "<class 'pandas.core.frame.DataFrame'>\n",
            "RangeIndex: 1458644 entries, 0 to 1458643\n",
            "Data columns (total 2 columns):\n",
            " #   Column   Non-Null Count    Dtype\n",
            "---  ------   --------------    -----\n",
            " 0   holiday  1458644 non-null  bool \n",
            " 1   weekend  1458644 non-null  bool \n",
            "dtypes: bool(2)\n",
            "memory usage: 2.8 MB\n"
          ],
          "name": "stdout"
        }
      ]
    },
    {
      "cell_type": "code",
      "metadata": {
        "id": "0OFQz4rA7yZ0",
        "colab": {
          "base_uri": "https://localhost:8080/",
          "height": 377
        },
        "outputId": "2407a4e1-2d2d-409c-c4cc-da861759e43b"
      },
      "source": [
        "from sklearn.cluster import MiniBatchKMeans\n",
        "\n",
        "coord_pickup = np.vstack(train[['pickup_latitude', 'pickup_longitude']].values)\n",
        "coord_dropoff = np.vstack(train[['dropoff_latitude', 'dropoff_longitude']].values)\n",
        "\n",
        "# get random start points\n",
        "coords = np.hstack((coord_pickup,coord_dropoff))\n",
        "sample_ind = np.random.permutation(len(coords))[:500000]\n",
        "\n",
        "\n",
        "kmeans = MiniBatchKMeans(n_clusters=10, batch_size =10000).fit(coords[sample_ind])\n",
        "train.loc[:,'pickup_dropoff_loc'] = kmeans.predict(train[['pickup_latitude', 'pickup_longitude','dropoff_latitude','dropoff_longitude']])\n",
        "train.loc[:,'pickup_dropoff_loc'].head()\n",
        "# note that these were the levels in the original df\n",
        "my_tab = pd.crosstab(index=train['pickup_dropoff_loc'],columns=\"count\") \n",
        "my_tab"
      ],
      "execution_count": null,
      "outputs": [
        {
          "output_type": "execute_result",
          "data": {
            "text/html": [
              "<div>\n",
              "<style scoped>\n",
              "    .dataframe tbody tr th:only-of-type {\n",
              "        vertical-align: middle;\n",
              "    }\n",
              "\n",
              "    .dataframe tbody tr th {\n",
              "        vertical-align: top;\n",
              "    }\n",
              "\n",
              "    .dataframe thead th {\n",
              "        text-align: right;\n",
              "    }\n",
              "</style>\n",
              "<table border=\"1\" class=\"dataframe\">\n",
              "  <thead>\n",
              "    <tr style=\"text-align: right;\">\n",
              "      <th>col_0</th>\n",
              "      <th>count</th>\n",
              "    </tr>\n",
              "    <tr>\n",
              "      <th>pickup_dropoff_loc</th>\n",
              "      <th></th>\n",
              "    </tr>\n",
              "  </thead>\n",
              "  <tbody>\n",
              "    <tr>\n",
              "      <th>0</th>\n",
              "      <td>502955</td>\n",
              "    </tr>\n",
              "    <tr>\n",
              "      <th>1</th>\n",
              "      <td>124127</td>\n",
              "    </tr>\n",
              "    <tr>\n",
              "      <th>2</th>\n",
              "      <td>32635</td>\n",
              "    </tr>\n",
              "    <tr>\n",
              "      <th>3</th>\n",
              "      <td>59590</td>\n",
              "    </tr>\n",
              "    <tr>\n",
              "      <th>4</th>\n",
              "      <td>266358</td>\n",
              "    </tr>\n",
              "    <tr>\n",
              "      <th>5</th>\n",
              "      <td>358176</td>\n",
              "    </tr>\n",
              "    <tr>\n",
              "      <th>6</th>\n",
              "      <td>14659</td>\n",
              "    </tr>\n",
              "    <tr>\n",
              "      <th>7</th>\n",
              "      <td>36386</td>\n",
              "    </tr>\n",
              "    <tr>\n",
              "      <th>8</th>\n",
              "      <td>24245</td>\n",
              "    </tr>\n",
              "    <tr>\n",
              "      <th>9</th>\n",
              "      <td>39513</td>\n",
              "    </tr>\n",
              "  </tbody>\n",
              "</table>\n",
              "</div>"
            ],
            "text/plain": [
              "col_0                count\n",
              "pickup_dropoff_loc        \n",
              "0                   502955\n",
              "1                   124127\n",
              "2                    32635\n",
              "3                    59590\n",
              "4                   266358\n",
              "5                   358176\n",
              "6                    14659\n",
              "7                    36386\n",
              "8                    24245\n",
              "9                    39513"
            ]
          },
          "metadata": {
            "tags": []
          },
          "execution_count": 31
        }
      ]
    },
    {
      "cell_type": "code",
      "metadata": {
        "id": "FdWeF2sDbcP0",
        "colab": {
          "base_uri": "https://localhost:8080/",
          "height": 197
        },
        "outputId": "fce3afdd-c186-440a-e77b-0e31e3f09375"
      },
      "source": [
        "y_train.head()"
      ],
      "execution_count": null,
      "outputs": [
        {
          "output_type": "execute_result",
          "data": {
            "text/html": [
              "<div>\n",
              "<style scoped>\n",
              "    .dataframe tbody tr th:only-of-type {\n",
              "        vertical-align: middle;\n",
              "    }\n",
              "\n",
              "    .dataframe tbody tr th {\n",
              "        vertical-align: top;\n",
              "    }\n",
              "\n",
              "    .dataframe thead th {\n",
              "        text-align: right;\n",
              "    }\n",
              "</style>\n",
              "<table border=\"1\" class=\"dataframe\">\n",
              "  <thead>\n",
              "    <tr style=\"text-align: right;\">\n",
              "      <th></th>\n",
              "      <th>trip_duration</th>\n",
              "    </tr>\n",
              "  </thead>\n",
              "  <tbody>\n",
              "    <tr>\n",
              "      <th>0</th>\n",
              "      <td>455</td>\n",
              "    </tr>\n",
              "    <tr>\n",
              "      <th>1</th>\n",
              "      <td>663</td>\n",
              "    </tr>\n",
              "    <tr>\n",
              "      <th>2</th>\n",
              "      <td>2124</td>\n",
              "    </tr>\n",
              "    <tr>\n",
              "      <th>3</th>\n",
              "      <td>429</td>\n",
              "    </tr>\n",
              "    <tr>\n",
              "      <th>4</th>\n",
              "      <td>435</td>\n",
              "    </tr>\n",
              "  </tbody>\n",
              "</table>\n",
              "</div>"
            ],
            "text/plain": [
              "   trip_duration\n",
              "0            455\n",
              "1            663\n",
              "2           2124\n",
              "3            429\n",
              "4            435"
            ]
          },
          "metadata": {
            "tags": []
          },
          "execution_count": 32
        }
      ]
    },
    {
      "cell_type": "code",
      "metadata": {
        "id": "wQZn37b9bhHo",
        "colab": {
          "base_uri": "https://localhost:8080/",
          "height": 34
        },
        "outputId": "9fb1f716-48cb-4ebb-ac0a-86f42d1faec7"
      },
      "source": [
        "y_train.shape"
      ],
      "execution_count": null,
      "outputs": [
        {
          "output_type": "execute_result",
          "data": {
            "text/plain": [
              "(1458644, 1)"
            ]
          },
          "metadata": {
            "tags": []
          },
          "execution_count": 33
        }
      ]
    },
    {
      "cell_type": "code",
      "metadata": {
        "id": "XvxCCuEu8P41",
        "colab": {
          "base_uri": "https://localhost:8080/",
          "height": 301
        },
        "outputId": "b84d042e-150d-47c5-b820-86a2ec47d1d8"
      },
      "source": [
        "train.head()"
      ],
      "execution_count": null,
      "outputs": [
        {
          "output_type": "execute_result",
          "data": {
            "text/html": [
              "<div>\n",
              "<style scoped>\n",
              "    .dataframe tbody tr th:only-of-type {\n",
              "        vertical-align: middle;\n",
              "    }\n",
              "\n",
              "    .dataframe tbody tr th {\n",
              "        vertical-align: top;\n",
              "    }\n",
              "\n",
              "    .dataframe thead th {\n",
              "        text-align: right;\n",
              "    }\n",
              "</style>\n",
              "<table border=\"1\" class=\"dataframe\">\n",
              "  <thead>\n",
              "    <tr style=\"text-align: right;\">\n",
              "      <th></th>\n",
              "      <th>id</th>\n",
              "      <th>vendor_id</th>\n",
              "      <th>pickup_datetime</th>\n",
              "      <th>dropoff_datetime</th>\n",
              "      <th>passenger_count</th>\n",
              "      <th>pickup_longitude</th>\n",
              "      <th>pickup_latitude</th>\n",
              "      <th>dropoff_longitude</th>\n",
              "      <th>dropoff_latitude</th>\n",
              "      <th>store_and_fwd_flag</th>\n",
              "      <th>trip_duration</th>\n",
              "      <th>year</th>\n",
              "      <th>month</th>\n",
              "      <th>day</th>\n",
              "      <th>hr</th>\n",
              "      <th>minute</th>\n",
              "      <th>pickup_dropoff_loc</th>\n",
              "    </tr>\n",
              "  </thead>\n",
              "  <tbody>\n",
              "    <tr>\n",
              "      <th>0</th>\n",
              "      <td>id2875421</td>\n",
              "      <td>2</td>\n",
              "      <td>2016-03-14 17:24:55</td>\n",
              "      <td>2016-03-14 17:32:30</td>\n",
              "      <td>1</td>\n",
              "      <td>-73.982155</td>\n",
              "      <td>40.767937</td>\n",
              "      <td>-73.964630</td>\n",
              "      <td>40.765602</td>\n",
              "      <td>0</td>\n",
              "      <td>455</td>\n",
              "      <td>2016</td>\n",
              "      <td>3</td>\n",
              "      <td>14</td>\n",
              "      <td>17</td>\n",
              "      <td>24</td>\n",
              "      <td>4</td>\n",
              "    </tr>\n",
              "    <tr>\n",
              "      <th>1</th>\n",
              "      <td>id2377394</td>\n",
              "      <td>1</td>\n",
              "      <td>2016-06-12 00:43:35</td>\n",
              "      <td>2016-06-12 00:54:38</td>\n",
              "      <td>1</td>\n",
              "      <td>-73.980415</td>\n",
              "      <td>40.738564</td>\n",
              "      <td>-73.999481</td>\n",
              "      <td>40.731152</td>\n",
              "      <td>0</td>\n",
              "      <td>663</td>\n",
              "      <td>2016</td>\n",
              "      <td>6</td>\n",
              "      <td>12</td>\n",
              "      <td>0</td>\n",
              "      <td>43</td>\n",
              "      <td>5</td>\n",
              "    </tr>\n",
              "    <tr>\n",
              "      <th>2</th>\n",
              "      <td>id3858529</td>\n",
              "      <td>2</td>\n",
              "      <td>2016-01-19 11:35:24</td>\n",
              "      <td>2016-01-19 12:10:48</td>\n",
              "      <td>1</td>\n",
              "      <td>-73.979027</td>\n",
              "      <td>40.763939</td>\n",
              "      <td>-74.005333</td>\n",
              "      <td>40.710087</td>\n",
              "      <td>0</td>\n",
              "      <td>2124</td>\n",
              "      <td>2016</td>\n",
              "      <td>1</td>\n",
              "      <td>19</td>\n",
              "      <td>11</td>\n",
              "      <td>35</td>\n",
              "      <td>5</td>\n",
              "    </tr>\n",
              "    <tr>\n",
              "      <th>3</th>\n",
              "      <td>id3504673</td>\n",
              "      <td>2</td>\n",
              "      <td>2016-04-06 19:32:31</td>\n",
              "      <td>2016-04-06 19:39:40</td>\n",
              "      <td>1</td>\n",
              "      <td>-74.010040</td>\n",
              "      <td>40.719971</td>\n",
              "      <td>-74.012268</td>\n",
              "      <td>40.706718</td>\n",
              "      <td>0</td>\n",
              "      <td>429</td>\n",
              "      <td>2016</td>\n",
              "      <td>4</td>\n",
              "      <td>6</td>\n",
              "      <td>19</td>\n",
              "      <td>32</td>\n",
              "      <td>5</td>\n",
              "    </tr>\n",
              "    <tr>\n",
              "      <th>4</th>\n",
              "      <td>id2181028</td>\n",
              "      <td>2</td>\n",
              "      <td>2016-03-26 13:30:55</td>\n",
              "      <td>2016-03-26 13:38:10</td>\n",
              "      <td>1</td>\n",
              "      <td>-73.973053</td>\n",
              "      <td>40.793209</td>\n",
              "      <td>-73.972923</td>\n",
              "      <td>40.782520</td>\n",
              "      <td>0</td>\n",
              "      <td>435</td>\n",
              "      <td>2016</td>\n",
              "      <td>3</td>\n",
              "      <td>26</td>\n",
              "      <td>13</td>\n",
              "      <td>30</td>\n",
              "      <td>1</td>\n",
              "    </tr>\n",
              "  </tbody>\n",
              "</table>\n",
              "</div>"
            ],
            "text/plain": [
              "          id  vendor_id     pickup_datetime  ...  hr  minute  pickup_dropoff_loc\n",
              "0  id2875421          2 2016-03-14 17:24:55  ...  17      24                   4\n",
              "1  id2377394          1 2016-06-12 00:43:35  ...   0      43                   5\n",
              "2  id3858529          2 2016-01-19 11:35:24  ...  11      35                   5\n",
              "3  id3504673          2 2016-04-06 19:32:31  ...  19      32                   5\n",
              "4  id2181028          2 2016-03-26 13:30:55  ...  13      30                   1\n",
              "\n",
              "[5 rows x 17 columns]"
            ]
          },
          "metadata": {
            "tags": []
          },
          "execution_count": 34
        }
      ]
    },
    {
      "cell_type": "code",
      "metadata": {
        "id": "OeXG80lCbkdy",
        "colab": {
          "base_uri": "https://localhost:8080/",
          "height": 34
        },
        "outputId": "0fd973db-57ea-46b4-b62a-abf5064c1e0c"
      },
      "source": [
        "train.shape"
      ],
      "execution_count": null,
      "outputs": [
        {
          "output_type": "execute_result",
          "data": {
            "text/plain": [
              "(1458644, 17)"
            ]
          },
          "metadata": {
            "tags": []
          },
          "execution_count": 35
        }
      ]
    },
    {
      "cell_type": "code",
      "metadata": {
        "id": "Tp5-8BTGXGRn",
        "colab": {
          "base_uri": "https://localhost:8080/",
          "height": 217
        },
        "outputId": "38b1ac6b-393e-4964-9628-d401c533397a"
      },
      "source": [
        "train = train[['vendor_id','passenger_count','pickup_longitude','pickup_latitude','dropoff_longitude','dropoff_latitude','pickup_dropoff_loc','store_and_fwd_flag']]\n",
        "train  = pd.concat([train ,special_days],axis=1)\n",
        "train.head()"
      ],
      "execution_count": null,
      "outputs": [
        {
          "output_type": "execute_result",
          "data": {
            "text/html": [
              "<div>\n",
              "<style scoped>\n",
              "    .dataframe tbody tr th:only-of-type {\n",
              "        vertical-align: middle;\n",
              "    }\n",
              "\n",
              "    .dataframe tbody tr th {\n",
              "        vertical-align: top;\n",
              "    }\n",
              "\n",
              "    .dataframe thead th {\n",
              "        text-align: right;\n",
              "    }\n",
              "</style>\n",
              "<table border=\"1\" class=\"dataframe\">\n",
              "  <thead>\n",
              "    <tr style=\"text-align: right;\">\n",
              "      <th></th>\n",
              "      <th>vendor_id</th>\n",
              "      <th>passenger_count</th>\n",
              "      <th>pickup_longitude</th>\n",
              "      <th>pickup_latitude</th>\n",
              "      <th>dropoff_longitude</th>\n",
              "      <th>dropoff_latitude</th>\n",
              "      <th>pickup_dropoff_loc</th>\n",
              "      <th>store_and_fwd_flag</th>\n",
              "      <th>holiday</th>\n",
              "      <th>weekend</th>\n",
              "    </tr>\n",
              "  </thead>\n",
              "  <tbody>\n",
              "    <tr>\n",
              "      <th>0</th>\n",
              "      <td>2</td>\n",
              "      <td>1</td>\n",
              "      <td>-73.982155</td>\n",
              "      <td>40.767937</td>\n",
              "      <td>-73.964630</td>\n",
              "      <td>40.765602</td>\n",
              "      <td>4</td>\n",
              "      <td>0</td>\n",
              "      <td>False</td>\n",
              "      <td>False</td>\n",
              "    </tr>\n",
              "    <tr>\n",
              "      <th>1</th>\n",
              "      <td>1</td>\n",
              "      <td>1</td>\n",
              "      <td>-73.980415</td>\n",
              "      <td>40.738564</td>\n",
              "      <td>-73.999481</td>\n",
              "      <td>40.731152</td>\n",
              "      <td>5</td>\n",
              "      <td>0</td>\n",
              "      <td>True</td>\n",
              "      <td>True</td>\n",
              "    </tr>\n",
              "    <tr>\n",
              "      <th>2</th>\n",
              "      <td>2</td>\n",
              "      <td>1</td>\n",
              "      <td>-73.979027</td>\n",
              "      <td>40.763939</td>\n",
              "      <td>-74.005333</td>\n",
              "      <td>40.710087</td>\n",
              "      <td>5</td>\n",
              "      <td>0</td>\n",
              "      <td>False</td>\n",
              "      <td>False</td>\n",
              "    </tr>\n",
              "    <tr>\n",
              "      <th>3</th>\n",
              "      <td>2</td>\n",
              "      <td>1</td>\n",
              "      <td>-74.010040</td>\n",
              "      <td>40.719971</td>\n",
              "      <td>-74.012268</td>\n",
              "      <td>40.706718</td>\n",
              "      <td>5</td>\n",
              "      <td>0</td>\n",
              "      <td>False</td>\n",
              "      <td>False</td>\n",
              "    </tr>\n",
              "    <tr>\n",
              "      <th>4</th>\n",
              "      <td>2</td>\n",
              "      <td>1</td>\n",
              "      <td>-73.973053</td>\n",
              "      <td>40.793209</td>\n",
              "      <td>-73.972923</td>\n",
              "      <td>40.782520</td>\n",
              "      <td>1</td>\n",
              "      <td>0</td>\n",
              "      <td>True</td>\n",
              "      <td>True</td>\n",
              "    </tr>\n",
              "  </tbody>\n",
              "</table>\n",
              "</div>"
            ],
            "text/plain": [
              "   vendor_id  passenger_count  ...  holiday  weekend\n",
              "0          2                1  ...    False    False\n",
              "1          1                1  ...     True     True\n",
              "2          2                1  ...    False    False\n",
              "3          2                1  ...    False    False\n",
              "4          2                1  ...     True     True\n",
              "\n",
              "[5 rows x 10 columns]"
            ]
          },
          "metadata": {
            "tags": []
          },
          "execution_count": 36
        }
      ]
    },
    {
      "cell_type": "code",
      "metadata": {
        "id": "O2d_b1vtbz6v",
        "colab": {
          "base_uri": "https://localhost:8080/",
          "height": 34
        },
        "outputId": "f44697f6-f218-4721-9a5d-7f583e3dfe5e"
      },
      "source": [
        "train.shape"
      ],
      "execution_count": null,
      "outputs": [
        {
          "output_type": "execute_result",
          "data": {
            "text/plain": [
              "(1458644, 10)"
            ]
          },
          "metadata": {
            "tags": []
          },
          "execution_count": 37
        }
      ]
    },
    {
      "cell_type": "markdown",
      "metadata": {
        "id": "9Dkf0fhsV_wy"
      },
      "source": [
        "Find overall loss:"
      ]
    },
    {
      "cell_type": "code",
      "metadata": {
        "id": "ZDrzcisjNJE8"
      },
      "source": [
        "def findOverallLoss(ypreds,Y):\n",
        "  err = abs(ypreds.reset_index(drop=True).T - Y.reset_index(drop=True).values.squeeze())\n",
        "  MAPE = err.mean(axis=1)\n",
        "  return MAPE"
      ],
      "execution_count": null,
      "outputs": []
    },
    {
      "cell_type": "code",
      "metadata": {
        "id": "nOKRTJtfWuHC",
        "colab": {
          "base_uri": "https://localhost:8080/",
          "height": 278
        },
        "outputId": "b763f778-1570-426c-cc60-007496233992"
      },
      "source": [
        "from sklearn.model_selection import train_test_split\n",
        "from sklearn import tree\n",
        "min_samples = np.linspace(0.01, 0.5, 15, endpoint=True)\n",
        "\n",
        "x_train1, x_test1, y_train1, y_test1 = train_test_split(train,y_train, test_size=0.1)  # split with given ratio\n",
        "all1 = pd.DataFrame()     # generate empty matrix\n",
        "for min_sample in min_samples:   # and for each of the min_samples option\n",
        "   clf = tree.DecisionTreeRegressor(min_samples_leaf=min_sample)   # generate a tree with that many samples\n",
        "   clf = clf.fit(x_train1, y_train1)   # fit the tree with the train x annd y\n",
        "   y_pred = clf.predict(x_test1)   # generate predictions for the test x\n",
        "   loss = findOverallLoss(pd.DataFrame(y_pred),pd.DataFrame(y_test1))  # find the loss of the prediction compared to the real test y values \n",
        "   row = pd.DataFrame(loss).T\n",
        "   all1 = [all1, row]\n",
        "   all1 = pd.concat(all1,axis=0,ignore_index=True)   # make a matrix with the minimum samples per leaf and the loss it gave \n",
        "   \n",
        "x_train2, x_test2, y_train2, y_test2 = train_test_split(train,y_train, test_size=0.2)\n",
        "all2 = pd.DataFrame()\n",
        "for min_sample in min_samples:\n",
        "   clf = tree.DecisionTreeRegressor(min_samples_leaf=min_sample)\n",
        "   clf = clf.fit(x_train2, y_train2)\n",
        "   y_pred = clf.predict(x_test2)\n",
        "   loss = findOverallLoss(pd.DataFrame(y_pred),pd.DataFrame(y_test2))\n",
        "   row = pd.DataFrame(loss).T\n",
        "   all2 = [all2, row]\n",
        "   all2 = pd.concat(all2,axis=0,ignore_index=True)\n",
        "\n",
        "x_train3, x_test3, y_train3, y_test3 = train_test_split(train,y_train, test_size=0.3)\n",
        "all3 = pd.DataFrame()\n",
        "for min_sample in min_samples:\n",
        "   clf = tree.DecisionTreeRegressor(min_samples_leaf=min_sample)\n",
        "   clf = clf.fit(x_train3, y_train3)\n",
        "   y_pred = clf.predict(x_test3)\n",
        "   loss = findOverallLoss(pd.DataFrame(y_pred),pd.DataFrame(y_test3))\n",
        "   row = pd.DataFrame(loss).T\n",
        "   all3 = [all3, row]\n",
        "   all3 = pd.concat(all3,axis=0,ignore_index=True)\n",
        "\n",
        "x_train4, x_test4, y_train4, y_test4 = train_test_split(train,y_train, test_size=0.4)\n",
        "all4 = pd.DataFrame()\n",
        "for min_sample in min_samples:\n",
        "   clf = tree.DecisionTreeRegressor(min_samples_leaf=min_sample)\n",
        "   clf = clf.fit(x_train4, y_train4)\n",
        "   y_pred = clf.predict(x_test4)\n",
        "   loss = findOverallLoss(pd.DataFrame(y_pred),pd.DataFrame(y_test4))\n",
        "   row = pd.DataFrame(loss).T\n",
        "   all4 = [all4, row]\n",
        "   all4 = pd.concat(all4,axis=0,ignore_index=True)\n",
        "\n",
        "x_train5, x_test5, y_train5, y_test5 = train_test_split(train,y_train, test_size=0.5)\n",
        "all5 = pd.DataFrame()\n",
        "for min_sample in min_samples:\n",
        "   clf = tree.DecisionTreeRegressor(min_samples_leaf=min_sample)\n",
        "   clf = clf.fit(x_train5, y_train5)\n",
        "   y_pred = clf.predict(x_test5)\n",
        "   loss = findOverallLoss(pd.DataFrame(y_pred),pd.DataFrame(y_test5))\n",
        "   row = pd.DataFrame(loss).T\n",
        "   all5 = [all5, row]\n",
        "   all5 = pd.concat(all5,axis=0,ignore_index=True)\n",
        "\n",
        "\n",
        "\n",
        "# plot where min_samples is on the x and the loss given the min_samples for a given train/test ratio is on the y\n",
        "import matplotlib.pyplot as plt\n",
        "from matplotlib.legend_handler import HandlerLine2D\n",
        "plt.plot(min_samples, all1,  label=\"Loss\", color = \"red\") # 0.1\n",
        "plt.plot(min_samples, all2,  label=\"Loss\", color = \"orange\") # 0.2\n",
        "plt.plot(min_samples, all3,  label=\"Loss\", color = \"yellow\") # 0.3\n",
        "plt.plot(min_samples, all4,  label=\"Loss\", color = \"green\") # 0.4\n",
        "plt.plot(min_samples, all5,  label=\"Loss\", color = \"blue\") # 0.5\n",
        "plt.ylabel('Loss')\n",
        "plt.xlabel('min samples leaf')\n",
        "plt.show()\n",
        "  "
      ],
      "execution_count": null,
      "outputs": [
        {
          "output_type": "display_data",
          "data": {
            "image/png": "[encoded data removed]",
            "text/plain": [
              "<Figure size 432x288 with 1 Axes>"
            ]
          },
          "metadata": {
            "tags": [],
            "needs_background": "light"
          }
        }
      ]
    }
  ]
}