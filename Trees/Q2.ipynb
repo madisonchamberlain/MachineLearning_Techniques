{
  "nbformat": 4,
  "nbformat_minor": 0,
  "metadata": {
    "colab": {
      "name": "Q2.ipynb",
      "provenance": [],
      "collapsed_sections": []
    },
    "kernelspec": {
      "name": "python3",
      "display_name": "Python 3"
    }
  },
  "cells": [
    {
      "cell_type": "markdown",
      "metadata": {
        "id": "zAUNOftO5lMD"
      },
      "source": [
        "# Question 2:\n",
        "### Write a recursive function using only the children (right and left)/threshold/feature/value methods from sklearn’s _tree class to print out the predicted value for a given set of X features for 1 row of the airq data. \n"
      ]
    },
    {
      "cell_type": "code",
      "metadata": {
        "id": "_BMTTCDTOGI7"
      },
      "source": [
        "def get_prediction(decision_tree, test_row, node_index = 0):\n",
        "  from sklearn.tree import _tree\n",
        "  tree_ = decision_tree.tree_\n",
        "  feature_names = airq.columns.tolist()[1:]\n",
        "  feature_name = [ feature_names[i] for i in tree_.feature ]\n",
        "\n",
        "  if (tree_.children_left[node_index] < 0) and (tree_.children_right[node_index] < 0):     ## if the node is a leaf node\n",
        "    value = tree_.value[node_index]   # get the value stored in that node as a prediction for the row \n",
        "    print(\"predicted value:\", value)\n",
        "  else:   ## if its not a leaf node we need to get to the leaf node \n",
        "    x_val_at_feature = test_row[feature_name[node_index]]   # find the falue of the feature used to determine the split\n",
        "    if x_val_at_feature <= tree_.threshold[node_index]:   # if the value is <= the threshold\n",
        "      get_prediction(decision_tree, test_row, tree_.children_left[node_index])   # recurse on the left child\n",
        "    else:\n",
        "      get_prediction(decision_tree, test_row, tree_.children_right[node_index])   # otherwise recurse on the right child\n",
        "      #updates 'node_index' to hold the value of the index of the left/right child"
      ],
      "execution_count": null,
      "outputs": []
    },
    {
      "cell_type": "markdown",
      "metadata": {
        "id": "QMXZP9juw9ul"
      },
      "source": [
        "# Used to call and test the function:"
      ]
    },
    {
      "cell_type": "code",
      "metadata": {
        "id": "AXRxjVvU51EF",
        "colab": {
          "base_uri": "https://localhost:8080/",
          "height": 34
        },
        "outputId": "ae47d1be-f620-490a-ec37-6323ebbc1905"
      },
      "source": [
        "from google.colab import drive\n",
        "drive.mount('/content/drive')\n",
        "\n",
        "import pandas as pd\n",
        "import numpy as np\n",
        "from sklearn import tree\n",
        "\n",
        "my_path = '/content/drive/My Drive/airq'\n",
        "airq = pd.read_csv(my_path)\n",
        "airq = airq.iloc[:,1:]\n",
        "airq[\"Solar.R\"] = airq[\"Solar.R\"].fillna(round(airq[\"Solar.R\"].mean()))\n",
        "\n",
        "X = airq.iloc[:,1:]\n",
        "Y = pd.DataFrame(airq.iloc[:,0])\n",
        "\n",
        "clf = tree.DecisionTreeRegressor(max_depth=3)\n",
        "clf = clf.fit(X, Y)"
      ],
      "execution_count": null,
      "outputs": [
        {
          "output_type": "stream",
          "text": [
            "Drive already mounted at /content/drive; to attempt to forcibly remount, call drive.mount(\"/content/drive\", force_remount=True).\n"
          ],
          "name": "stdout"
        }
      ]
    },
    {
      "cell_type": "code",
      "metadata": {
        "id": "Q7mU5A_jmprD",
        "colab": {
          "base_uri": "https://localhost:8080/",
          "height": 34
        },
        "outputId": "198525dc-957d-4fe5-f646-3749160a1e90"
      },
      "source": [
        "decision_tree = clf \n",
        "test_row = airq.iloc[27]   # try 24 and 27 (one from the far left one from the far right)\n",
        "prediction = get_prediction(decision_tree, test_row, node_index = 0)   # note I found the far left "
      ],
      "execution_count": null,
      "outputs": [
        {
          "output_type": "stream",
          "text": [
            "predicted value: [[88.3125]]\n"
          ],
          "name": "stdout"
        }
      ]
    }
  ]
}